{
 "cells": [
  {
   "cell_type": "code",
   "execution_count": 82,
   "id": "20dab1fb",
   "metadata": {},
   "outputs": [],
   "source": [
    "import numpy as np\n",
    "import matplotlib.pyplot as plt\n",
    "%matplotlib inline"
   ]
  },
  {
   "cell_type": "code",
   "execution_count": 83,
   "id": "458d1e36",
   "metadata": {},
   "outputs": [],
   "source": [
    "# Test 1: Wartosci podane na laboratoriach, po obliczeniu a = 0.5, b = 0.7\n",
    "x = np.array([1,2,3,4,5])\n",
    "y = np.array([1,2,3,3,4])\n",
    "# Test 2: X - liczba dni Y - zanotowane wartosci temperatury\n",
    "# y = np.array([14, 12, 11, 10, 10, 11, 11, 10, 11, 12, 14, 14, 14, 14, 14, 14, 13, 14, 13, 13, 13,\n",
    "#      13, 13, 12, 11, 11, 11, 12, 9, 8])\n",
    "# utworz ciag od 1 do 30 aby okreslic liczbe dni \n",
    "# x = np.arange(1,31)"
   ]
  },
  {
   "cell_type": "code",
   "execution_count": 84,
   "id": "cac00340",
   "metadata": {},
   "outputs": [],
   "source": [
    "def znajdz_ab(x, y):\n",
    "    # znajdz n do wzoru, liczba wyrazow\n",
    "    n = np.size(x)\n",
    "    # znajdz sumy ciagow\n",
    "    suma_x = np.sum(x)\n",
    "    suma_y = np.sum(y)\n",
    "    suma_xy = np.sum(x*y) \n",
    "    # znajdz a i b ze wzorow\n",
    "    b = (suma_xy - 1/n*suma_x*suma_y) / (np.sum(x **2) - 1/n*suma_x*suma_x)\n",
    "    a = suma_y/n - (b*suma_x)/n\n",
    "    # wzroc a i b w tuple, gdzie [0] to a i [1] to b\n",
    "    return (a, b)"
   ]
  },
  {
   "cell_type": "code",
   "execution_count": 85,
   "id": "eceadfe6",
   "metadata": {},
   "outputs": [],
   "source": [
    "def regresja_liniowa(x, y):\n",
    "    # znajdz wspolczynniki potrzebne to wzoru y = a + bx\n",
    "    wspolczynniki = znajdz_ab(x, y) # [0] to a [1] to b\n",
    "    # oblicz regresje liniowa ze wzoru y = a + bx majac wszystkie zmiennie\n",
    "    funkcja_regresji = wspolczynniki[0] + wspolczynniki[1]*x \n",
    "    # wynikiem jest np array\n",
    "    return funkcja_regresji\n"
   ]
  },
  {
   "cell_type": "code",
   "execution_count": 86,
   "id": "794ed92a",
   "metadata": {},
   "outputs": [
    {
     "data": {
      "image/png": "[encoded data removed]",
      "text/plain": [
       "<Figure size 432x288 with 1 Axes>"
      ]
     },
     "metadata": {
      "needs_background": "light"
     },
     "output_type": "display_data"
    }
   ],
   "source": [
    "# wykres kropkowy\n",
    "plt.scatter(x, y, color = \"b\", marker = \"o\", s = 30)\n",
    "# wykres regresji\n",
    "plt.plot(x, regresja_liniowa(x,y), color = \"g\")\n",
    "# nadaj oznaczenia wykresowi\n",
    "plt.title(\"Wykres regresji liniowej\")\n",
    "plt.ylabel(\"Y\")\n",
    "plt.xlabel(\"X\")\n",
    "# zapisz wykres do pliku\n",
    "plt.savefig('wykres.jpg')\n",
    "# jezeli uzywa sie srodowiska innego niz jupyter notebook, potrzeba dodac plt.show() na koniec\n"
   ]
  },
  {
   "cell_type": "code",
   "execution_count": null,
   "id": "df0d391f",
   "metadata": {},
   "outputs": [],
   "source": []
  }
 ],
 "metadata": {
  "kernelspec": {
   "display_name": "Python 3",
   "language": "python",
   "name": "python3"
  },
  "language_info": {
   "codemirror_mode": {
    "name": "ipython",
    "version": 3
   },
   "file_extension": ".py",
   "mimetype": "text/x-python",
   "name": "python",
   "nbconvert_exporter": "python",
   "pygments_lexer": "ipython3",
   "version": "3.8.8"
  }
 },
 "nbformat": 4,
 "nbformat_minor": 5
}
